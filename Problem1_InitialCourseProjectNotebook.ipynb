{
 "metadata": {
  "name": "",
  "signature": "sha256:8e4f922d27bee71568d826c65099b83329550b4718ffda0646e8d61d0c24e3f9"
 },
 "nbformat": 3,
 "nbformat_minor": 0,
 "worksheets": [
  {
   "cells": [
    {
     "cell_type": "heading",
     "level": 1,
     "metadata": {},
     "source": [
      "Course Project Notebook"
     ]
    },
    {
     "cell_type": "heading",
     "level": 2,
     "metadata": {},
     "source": [
      "Team Members"
     ]
    },
    {
     "cell_type": "markdown",
     "metadata": {},
     "source": [
      "\n",
      "<b>Aravindan Balan</b> (aravindan@cs.ucla.edu)\n",
      "\n",
      "<b>Aravind Ganapathy</b> (ag1990@cs.ucla.edu)\n",
      "\n",
      "<b>Gautham Badhrinathan</b> (gotemb@cs.ucla.edu)\n",
      "\n",
      "<b>Manoj Thakur</b> (manojrthakur@cs.ucla.edu)\n",
      "\n",
      "<b>Praphull Kumar</b> (praphull@cs.ucla.edu)\n",
      "\n"
     ]
    },
    {
     "cell_type": "heading",
     "level": 2,
     "metadata": {},
     "source": [
      "Executive Summary"
     ]
    },
    {
     "cell_type": "markdown",
     "metadata": {},
     "source": [
      "The goal of the project is to carry out a data analysis on a subset of git repositories; our goals are twofold. Firstly we want to characterize developers by their git activities. By analyzing repository metadata we  will seek to identify a developer's area of expertise and develop metrics in an effort to quantify his \"skill level.\"  The general purpose  is to allow employer looking for a freelancer with a certain skillset to find a good man for the job. The second goal is to determine the \"accessibility\" of an opensource project for a certain developer profile. Having determined a developer's ability, we want to identify projects in his desired area which are at an appropriate level for him to make a contribution. \n",
      "\n",
      "\n",
      "GitHub is a rich source of skillful developers for your next startup, it is also a good place to figure out which language you would want to use for your next startup. \n",
      "\n",
      "But the questions to ask are:\n",
      "<ul>\n",
      "<b>Developers</b>\n",
      "<li>How do we identify potential useful developers for a particular skillset?</li>\n",
      "<li>Does more number of commits imply how skilled a developer is?</li>\n",
      "<li>How impactful a developer is?</li><br>\n",
      "<b>Languages</b>\n",
      "<li>How popular is a language?</li>\n",
      "<li>How easy is the language?</li>\n",
      "<li> How impactful is a language?</li>\n",
      "</ul>\n",
      "\n",
      "The goal of the project is to carry out data analysis on a subset of git repositories; our goal is to analyze the trend in activities and the impact of those activities on a particular repository. The analysis is performed for each developer per programming language basis (the language the developer is actively working on). We quantify the activities and their impact based on the following metrics:\n",
      "\n",
      "<ul>\n",
      "<li> User language association metric: this metric indicates the amount of contribution of a developer towards/on/of a particular language. It must be noted that this metric is temporal ie. we measure the contribution of a developer towards/.... a particular language over a period of time. This is mainly because the relative contribution of developers to a particular repository changes over time.\n",
      "\n",
      "<https://github.com/atom/atom/graphs/contributors>\n",
      "\n",
      "\n",
      "\n",
      "\n",
      "</li>\n",
      "</ul>"
     ]
    },
    {
     "cell_type": "markdown",
     "metadata": {},
     "source": [
      "<img src=\"resources/Commits_pattern.png\" width = 1200 height=800>"
     ]
    },
    {
     "cell_type": "heading",
     "level": 1,
     "metadata": {},
     "source": [
      "Existing Analysis on Github data"
     ]
    },
    {
     "cell_type": "markdown",
     "metadata": {},
     "source": [
      "<br>\n",
      "<div align=\"center\"> \n",
      "<h2> GitHub data analysis </h2> [3] \n",
      "\n",
      "<div>\n",
      "\n",
      "<br>\n",
      "<table border=none>\n",
      "<tr>\n",
      "<td><img src=\"resources/github_activity_hour.png\" width = 300 height=300 /><b>Activity vs Hour</b></td>\n",
      "<td><img src=\"resources/new_repos_hours_yrs.png\" width = 300 height=300 /><b>New repositories created per hour basis for each year</b></td>\n",
      "</tr>\n",
      "<tr>\n",
      "<td><img src=\"resources/actions_weekdays.png\" width = 300 height=300 /><b>Gituhub actions performed on weekdays</b></td>\n",
      "<td><img src=\"resources/cpp_java.png\" width = 300 height=500 /></td>\n",
      "</tr>\n",
      "</table>\n",
      "\n",
      "<div align=\"center\"> <b>Log linear relationship bet number of watchers vs. Number of forks</b> </div>\n",
      "<img src=\"resources/fork_watch.png\" width = 300 height=300 />\n",
      "\n",
      "\n",
      "<br>\n",
      "<div align=\"center\"> <b> The impact of language choice on github projects </b> [3] <div>\n",
      "<table border=none>\n",
      "<tr>\n",
      "<td><img src=\"resources/median_commits_per_contributor.png\" width = 600 height=600 /><b>Median commits per contributor</b></td>\n",
      "<td><img src=\"resources/project_languages.png\" width = 600 height=600 /><b>Number of projects vs languages</b></td>\n",
      "</tr>\n",
      "</table>\n",
      "\n",
      "<div align=\"center\"> <b>Cumulative Percentage of Commits vs Percentile Active Contributors</b> </div>\n",
      "<img src=\"resources/percent_commit_percentile_authors.png\" width = 500 height=500 />\n"
     ]
    },
    {
     "cell_type": "heading",
     "level": 2,
     "metadata": {},
     "source": [
      "Data"
     ]
    },
    {
     "cell_type": "markdown",
     "metadata": {},
     "source": [
      "We are going to analyze data from GitHub. The data will be collected using the GitHub APIs [1]. We will be storing the following information:\n",
      "\n",
      "<ul>\n",
      "<li>\n",
      "Developer contribution information: For each developer we store the repositories he has contributed to. In each of these repositories we store the activity information like the number of lines of code modified by the user, the timestamp of the change, corresponding to which programming language was the change made. This data will enable us to identify the contribution and impact of a developer to a particular programming language.\n",
      "</li>\n",
      "<li>\n",
      "Repository information: For each repository we store attributes like the programming languages involved, number of contributors, stars, number of forks, number of pull requests, number of watchers and number of followers. This information will enable us to infer popular and easy languages. This information can enable an individual to decide on which programming language to use for a articular project.\n",
      "</li>\n",
      "</ul>"
     ]
    },
    {
     "cell_type": "heading",
     "level": 2,
     "metadata": {},
     "source": [
      "Plan"
     ]
    },
    {
     "cell_type": "markdown",
     "metadata": {},
     "source": [
      "\n",
      "Our plan is as follows:\n",
      "<ul><li>\n",
      "Get all up-to-date data from GitHub using their APIs.\n",
      "</li><li>\n",
      "Get seed data for active users, using the most forked/pulled/followed/starred/watched repositories.  \n",
      "</li><li>\n",
      "Store developer activity in a summarised format, giving relative contribution of the developer to each of the languages the developer is actively working on.\n",
      "</li><li>\n",
      "Devise a metric to evaluate the importance of commits made by each developer corresponding to each language. This metric will also indicate how much does a user contribute to the popularity of a particular repository. We plan to use the no. of lines of changes made in each commit as a good indicator of its importance.\n",
      "</li>\n",
      "<li>The metric mentioned above will be calculated on a per month basis (ie. aggregated by month).</li>\n",
      "<li>Once the summarised information for the contribution of a developer to a particular language is calculated we will cluster them based on their activity. Moreover in each cluster we will find which all programming languages exist. We plan to use K-means clustering for our purposes.\n",
      "</li>\n",
      "<li>We will also analyze the impact of parameters like number of forks, number of pull requests, number of watchers and programming languages used on the popularity of a particular repository (ie. number of stars and number of followers). We intend to infer this relationship using regression. We will also be identifying programming languages which are popular v/s those that are easy based on the number of forks/pull requests and number of watchers/followers respectively.\n",
      "</li>\n",
      "</ul>\n"
     ]
    },
    {
     "cell_type": "heading",
     "level": 2,
     "metadata": {},
     "source": [
      "References"
     ]
    },
    {
     "cell_type": "markdown",
     "metadata": {},
     "source": [
      "[1] GitHub API reference, https://developer.github.com/v3/ <br>\n",
      "[2] The impact of language choice on github projects, http://corte.si/posts/code/devsurvey/ <br>\n",
      "[3] GitHub data analysis, http://www.r-bloggers.com/github-data-analysis/ <br>\n",
      "[4] Mining the Social Web, <a target=\"_blank\" title=\"http://nbviewer.ipython.org/github/ptwobrussell/Mining-the-Social-Web-2nd-Edition/blob/master/ipynb/Chapter%207%20-%20Mining%20GitHub.ipynb\" href=\"http://nbviewer.ipython.org/github/ptwobrussell/Mining-the-Social-Web-2nd-Edition/blob/master/ipynb/Chapter%207%20-%20Mining%20GitHub.ipynb\">Chapter 7 - Mining GitHub</a>\n"
     ]
    }
   ],
   "metadata": {}
  }
 ]
}